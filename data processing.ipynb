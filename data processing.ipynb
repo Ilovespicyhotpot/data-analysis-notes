{
 "cells": [
  {
   "cell_type": "markdown",
   "metadata": {},
   "source": [
    "1. delete certain columns "
   ]
  },
  {
   "cell_type": "code",
   "execution_count": null,
   "metadata": {
    "collapsed": true
   },
   "outputs": [],
   "source": [
    "def drop_multiple_col(col_-names_list,df):\n",
    "    \"\"\"\n",
    "    ATM ->Drop multiple columns based on their column names\n",
    "    INPUT ->List of column names, df\n",
    "    OUTPUT -> updated df with dropped columns\n",
    "    \"\"\"\n",
    "    df.drop(col_name_list,axis=1,inplace=True)\n",
    "    return df"
   ]
  },
  {
   "cell_type": "markdown",
   "metadata": {},
   "source": [
    "2. change Dtypes to have more memory"
   ]
  },
  {
   "cell_type": "code",
   "execution_count": null,
   "metadata": {
    "collapsed": true
   },
   "outputs": [],
   "source": [
    "def change_dtypes(col_int,col_float,df):\n",
    "    \"\"\"\n",
    "    INPUT -> List of column names (int,float),df\n",
    "    OUTPUT -> updated df with smaller memory\n",
    "    \"\"\"\n",
    "    df[col_int]=df[col_int].astype('int32')\n",
    "    df[col_float]=df[col_float].astype(\"float32\")"
   ]
  },
  {
   "cell_type": "markdown",
   "metadata": {},
   "source": [
    "3. change the caegorical variables into numerical variables"
   ]
  },
  {
   "cell_type": "code",
   "execution_count": null,
   "metadata": {
    "collapsed": true
   },
   "outputs": [],
   "source": [
    "def conver_cat2num(df):\n",
    "    num_encode = {'col_1':{'Yes':1,'No':0}}, 'col_2':{'WON':1,'LOSE':0,'DRAW':0}}\n",
    "        df.replace(num_encode,inplace=True)"
   ]
  },
  {
   "cell_type": "markdown",
   "metadata": {},
   "source": [
    "4. check missing data #check for any missing data in the df (display in descending order)"
   ]
  },
  {
   "cell_type": "code",
   "execution_count": null,
   "metadata": {
    "collapsed": true
   },
   "outputs": [],
   "source": [
    "def check_missing_date(df):\n",
    "    return df.isnull().sum().sort_values(ascending=False)"
   ]
  },
  {
   "cell_type": "markdown",
   "metadata": {},
   "source": [
    "5. remove a portion of string in a dataframe column"
   ]
  },
  {
   "cell_type": "code",
   "execution_count": null,
   "metadata": {
    "collapsed": true
   },
   "outputs": [],
   "source": [
    "def remove_col_Str(df):\n",
    "    df['col_1'].replace('\\n','',regex=True,inplace=True)\n",
    "    #remove all the characters after &# for column\n",
    "    df[\"col_1\"].replace('&#.*','',regex=True,inplace=True)"
   ]
  },
  {
   "cell_type": "markdown",
   "metadata": {},
   "source": [
    "6. remove white space at the beginning of string"
   ]
  },
  {
   "cell_type": "code",
   "execution_count": null,
   "metadata": {
    "collapsed": true
   },
   "outputs": [],
   "source": [
    "def remove_col_white_space(df):\n",
    "    df[col] = df[col].str.lstrip()"
   ]
  },
  {
   "cell_type": "markdown",
   "metadata": {},
   "source": [
    "7. concat 2 columns with strings if the last 3 letters of the first column are 'pil'"
   ]
  },
  {
   "cell_type": "code",
   "execution_count": null,
   "metadata": {
    "collapsed": true
   },
   "outputs": [],
   "source": [
    "def concat_col_str_condition(df):\n",
    "    mask = df['col_1'].str.endswith('pil',na=False)\n",
    "    col_new = df[mask]['col_1']+df[mask]['col_2']\n",
    "    col_new.replace('pil',' ',regex = True, inplace=True)#place the 'pil' with empty space"
   ]
  },
  {
   "cell_type": "markdown",
   "metadata": {},
   "source": [
    "8. convert datetime(string) to datetime(format we want)"
   ]
  },
  {
   "cell_type": "code",
   "execution_count": null,
   "metadata": {
    "collapsed": true
   },
   "outputs": [],
   "source": [
    "def convert_str_datetime(df):\n",
    "    df.insert(loc=2,column='timestamp',value=pd.to_datetime(df.transdate, format='%Y-%m-%d %H:%M:%S.%f'))"
   ]
  },
  {
   "cell_type": "code",
   "execution_count": 8,
   "metadata": {
    "collapsed": false
   },
   "outputs": [
    {
     "name": "stdout",
     "output_type": "stream",
     "text": [
      "Please enter a number1987\n",
      "MCMLXXXVII\n"
     ]
    }
   ],
   "source": [
    "num = int(input(\"Please enter a number\"))\n",
    "dic_1=['','I','II','III','IV','V','VI','VII','VIII','IX']\n",
    "dic_10 = ['', 'X','XX',  'XXX','XL','L','LX', 'LXX','LXXX','XC']\n",
    "dic_100 = ['','C', 'CC',  'CCC', 'CD', 'D','DC',  'DCC', 'DCCC', 'CM',]\n",
    "dic_1000 = ['','M','MM','MMM']\n",
    "res = ''\n",
    "res = dic_1000[num//1000]+dic_100[(num%1000)//100]+dic_10[(num%100)//10]+dic_1[num%10]\n",
    "print(res)"
   ]
  },
  {
   "cell_type": "code",
   "execution_count": null,
   "metadata": {
    "collapsed": true
   },
   "outputs": [],
   "source": []
  },
  {
   "cell_type": "code",
   "execution_count": null,
   "metadata": {
    "collapsed": true
   },
   "outputs": [],
   "source": []
  }
 ],
 "metadata": {
  "kernelspec": {
   "display_name": "Python 3",
   "language": "python",
   "name": "python3"
  },
  "language_info": {
   "codemirror_mode": {
    "name": "ipython",
    "version": 3
   },
   "file_extension": ".py",
   "mimetype": "text/x-python",
   "name": "python",
   "nbconvert_exporter": "python",
   "pygments_lexer": "ipython3",
   "version": "3.6.7"
  }
 },
 "nbformat": 4,
 "nbformat_minor": 2
}
